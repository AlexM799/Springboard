{
 "cells": [
  {
   "cell_type": "markdown",
   "metadata": {},
   "source": [
    "Ask the following questions and look for the answers using code and plots:\n",
    "Can you count something interesting?\n",
    "Can you find trends (e.g. high, low, increasing, decreasing, anomalies)?\n",
    "Can you make a bar plot or a histogram?\n",
    "Can you compare two related quantities?\n",
    "Can you make a scatterplot?\n",
    "Can you make a time-series plot?\n",
    "Looking at the plots, what are some insights you can make? Do you see any correlations? Is there a hypothesis you’d like to investigate further? What other questions do the insights lead you to ask?\n",
    "Now that you’ve asked questions, hopefully you’ve found some interesting insights. Is there a narrative or a way of presenting the insights using text and plots that tells a compelling story? What are some other trends/relationships you think will make the story more complete?"
   ]
  },
  {
   "cell_type": "code",
   "execution_count": 248,
   "metadata": {},
   "outputs": [
    {
     "name": "stdout",
     "output_type": "stream",
     "text": [
      "(484750, 39)\n",
      "(484750, 39)\n"
     ]
    }
   ],
   "source": [
    "import csv \n",
    "import numpy as np\n",
    "import pandas as pd\n",
    "import seaborn as sn\n",
    "import matplotlib.pyplot as plt\n",
    "import matplotlib.dates as mdates\n",
    "import matplotlib.ticker as ticker\n",
    "import seaborn as sns\n",
    "from pylab import savefig\n",
    "from datetime import datetime\n",
    "\n",
    "\n",
    "working_file_path = '/Users/alexia/Documents/Springboard/Capstone1/Cap1testing/'\n",
    "working_file = working_file_path + 'final_20190918-152744.csv'\n",
    "col_info_file = working_file_path + 'Extract9ColMapping.csv'\n",
    "cols_to_drop_file = working_file_path + 'Extract9ColsToDrop.csv'\n",
    "timestamp = datetime.now().strftime(\"%Y%m%d-%H%M%S\")\n",
    "log_file = working_file_path + 'results' + timestamp + '.txt'\n",
    "years = mdates.YearLocator() \n",
    "\n",
    "df_final = pd.read_csv(working_file, index_col = 'YEAR') \n",
    "\n",
    "HTN_colname = [\"Ever told had hypertension\"]\n",
    "\n",
    "#for analysis of hypertension, filter dataset where respondent stated \n",
    "#they were told they had hypertension\n",
    "df_HTN = df_final[df_final[HTN_column]==2]\n",
    "\n",
    "print(df_final.shape)\n",
    "print(df_HTN.shape)\n",
    "\n",
    "#can only map codes to descriptions if change column datatype - do in future version, \n",
    "#when also change it for ML models\n",
    "#Codes_1279 = {1: \"No\", 2: \"Yes\", 7:\"Refused\", 9:\"Don't Know\"}\n",
    "\n",
    "#df_final['Ever told had hypertension'] = df_final['Ever told had hypertension'].map(Codes_1279)\n",
    "#df_final['Ever told had angina pectoris'] = df_final['Ever told had angina pectoris'].map(Codes_1279)\n",
    "\n",
    "#df_HTN_ANG = df_final.groupby(['Ever told had hypertension', 'Ever told had angina pectoris']).size().reset_index(name='counts')\n",
    "\n"
   ]
  },
  {
   "cell_type": "code",
   "execution_count": 249,
   "metadata": {},
   "outputs": [
    {
     "ename": "SyntaxError",
     "evalue": "invalid syntax (<ipython-input-249-4cc42ec5b9ba>, line 1)",
     "output_type": "error",
     "traceback": [
      "\u001b[0;36m  File \u001b[0;32m\"<ipython-input-249-4cc42ec5b9ba>\"\u001b[0;36m, line \u001b[0;32m1\u001b[0m\n\u001b[0;31m    df_HTN.head()df_final[HTN_column]==2\u001b[0m\n\u001b[0m                        ^\u001b[0m\n\u001b[0;31mSyntaxError\u001b[0m\u001b[0;31m:\u001b[0m invalid syntax\n"
     ]
    }
   ],
   "source": [
    "df_HTN.head()df_final[HTN_column]==2\n"
   ]
  },
  {
   "cell_type": "markdown",
   "metadata": {},
   "source": [
    "### Examine the sample sizes in the final dataset vs the original dataset"
   ]
  },
  {
   "cell_type": "markdown",
   "metadata": {},
   "source": [
    "#### This shows a big difference in sample sizes, and the final dataset having fewer samples (cut off at 2000) but the variability seems to agree..."
   ]
  },
  {
   "cell_type": "code",
   "execution_count": null,
   "metadata": {},
   "outputs": [],
   "source": [
    "unfiltered_file = working_file_path + 'nhis_00010.csv'\n",
    "df_uf = pd.read_csv(unfiltered_file, index_col = 'YEAR')\n",
    "\n",
    "#fig = plt.figure(num=None, figsize=(15, 7))\n",
    "fig, ax = plt.subplots(figsize=(15,7))\n",
    "ax = df_uf.index.value_counts().sort_index().plot()\n",
    "df_final.index.value_counts().sort_index().plot(ax=ax, color='r')\n"
   ]
  },
  {
   "cell_type": "markdown",
   "metadata": {},
   "source": [
    "### Examine hypertension responses over samples"
   ]
  },
  {
   "cell_type": "markdown",
   "metadata": {},
   "source": [
    "Because the sample sizes differ from year to year, we need to plot the percent of hypertension in the sample size \n",
    "in order to evaluate if there is any trend in hypertension over time.\n",
    "\n",
    "To plot this, we need the data in the form of \n",
    "\n",
    "Year |  Total Responses  |  % Hypertension Positive Responses"
   ]
  },
  {
   "cell_type": "code",
   "execution_count": null,
   "metadata": {},
   "outputs": [],
   "source": [
    "#we have year & total responses in value_counts for the whole dataframe\n",
    "total_responses_by_year = df_final.index.value_counts().sort_index()\n",
    "response_counts = total_responses_by_year.values.tolist()\n",
    "\n",
    "#calculate the number of responses that indicated hypertension per year\n",
    "df_HTN_by_year = df_HTN.groupby(level=0, axis=0).count()[HTN_column]\n",
    "\n",
    "#add a column with the total responses per year \n",
    "df_HTN_by_year['total_responses_per_year'] = response_counts\n",
    "\n",
    "#calculate the percentage of responses indicating hypertension in the total responses per year\n",
    "df_HTN_by_year['pct_htn'] = df_HTN_by_year[HTN_column].apply(lambda x : x / df_HTN_by_year['total_responses_per_year'])\n",
    "\n",
    "#examine the data\n",
    "df_HTN_by_year.head()\n"
   ]
  },
  {
   "cell_type": "code",
   "execution_count": null,
   "metadata": {},
   "outputs": [],
   "source": [
    "#plot the results\n",
    "fig, axes = plt.subplots(nrows=1, ncols=2, figsize=(15,7))\n",
    "df_HTN_by_year['pct_htn'].plot(ax=axes[0], color= 'r', title='Not starting Y at Zero')\n",
    "#if we don't start Y at zero, the results look extreme!\n",
    "df_HTN_by_year['pct_htn'].plot(ax=axes[1], color= 'r', title='Starting Y at Zero')\n",
    "axes[1].set_ylim(bottom=0)\n",
    "axes[0].set_ylabel('Report of Hypertension')"
   ]
  },
  {
   "cell_type": "markdown",
   "metadata": {},
   "source": [
    "### Examine the distribution of data by region"
   ]
  },
  {
   "cell_type": "code",
   "execution_count": null,
   "metadata": {},
   "outputs": [],
   "source": [
    "#map the codes in the region column to understandable names\n",
    "regions = {1:'Northeast',\n",
    " 2:'North Central/Midwest', \n",
    " 3:'South',\n",
    " 4:'West',\n",
    " 8:'NO DATA IN ROUND',\n",
    " 9:'Unknown'}\n",
    "\n",
    "df_final['Region of residence'] = df_final['Region of residence'].map(regions)"
   ]
  },
  {
   "cell_type": "code",
   "execution_count": null,
   "metadata": {},
   "outputs": [],
   "source": [
    "#calculate the number of survey responses by region\n",
    "df_reg = df_final.groupby('Region of residence').size().reset_index(name='Sample size')\n",
    "df_reg.set_index('Region of residence', inplace=True)\n",
    "print(df_reg)"
   ]
  },
  {
   "cell_type": "code",
   "execution_count": null,
   "metadata": {},
   "outputs": [],
   "source": [
    "df_regionHTN = df_final.groupby(['Region of residence', 'Ever told had hypertension']).size().reset_index(name='Pos HTN')\n",
    "df_regionHTN = df_regionHTN[df_regionHTN['Ever told had hypertension'] == 2][['Region of residence', 'Pos HTN']]\n",
    "df_regionHTN.set_index('Region of residence', inplace=True)\n",
    "print(df_regionHTN)"
   ]
  },
  {
   "cell_type": "code",
   "execution_count": null,
   "metadata": {},
   "outputs": [],
   "source": [
    "#fig_R, ax_R = plt.subplots(figsize=(15,7))\n",
    "ax_R = df_reg.plot(kind='bar', color='g')\n",
    "df_regionHTN.plot(ax=ax_R, kind='bar', color='r') #,sharex=False\n",
    "plt.show()"
   ]
  },
  {
   "cell_type": "markdown",
   "metadata": {},
   "source": [
    "### This is helpful but it is hard to determine the percentage of hypertension because the sample sizes are so different.\n",
    "It would be more helpful to see a normalized percentage."
   ]
  },
  {
   "cell_type": "code",
   "execution_count": null,
   "metadata": {},
   "outputs": [],
   "source": [
    "df_regiondata = pd.merge(df_regionHTN, df_reg, how='inner', on='Region of residence')\n",
    "print(df_regiondata)"
   ]
  },
  {
   "cell_type": "code",
   "execution_count": null,
   "metadata": {},
   "outputs": [],
   "source": [
    "# From totals value to percentages\n",
    "#https://python-graph-gallery.com/13-percent-stacked-barplot/\n",
    "#Subgroups are displayed on of top of each other, \n",
    "#but data are normalised to make in sort that the sum of every subgroups is 100.\n",
    "\n",
    "r = [0,1,2,3]\n",
    "barWidth = 0.85\n",
    "names = ('North Central/Midwest','Northeast','South','West')\n",
    "\n",
    "totals = [i+j for i,j in zip(df_regiondata['Pos HTN'], df_regiondata['Sample size'])]\n",
    "HTNBars = [i / j * 100 for i,j in zip(df_regiondata['Pos HTN'], totals)]\n",
    "SampleSizeBars = [i / j * 100 for i,j in zip(df_regiondata['Sample size'], totals)]\n",
    "# Create HTN Bars\n",
    "plt.bar(r, HTNBars, color='r', edgecolor='white', width=barWidth)\n",
    "# Create SampleSize Bars\n",
    "plt.bar(r, SampleSizeBars, bottom=HTNBars, color='g', edgecolor='white', width=barWidth)\n",
    "\n",
    "# Custom x axis\n",
    "plt.xticks(r, names)\n",
    "plt.xlabel(\"Region\")\n",
    "\n",
    "plt.show()\n"
   ]
  },
  {
   "cell_type": "code",
   "execution_count": null,
   "metadata": {},
   "outputs": [],
   "source": []
  },
  {
   "cell_type": "markdown",
   "metadata": {},
   "source": [
    "### Is there any relationship between exercise and income?\n",
    "No: exercise is low across the board"
   ]
  },
  {
   "cell_type": "code",
   "execution_count": null,
   "metadata": {},
   "outputs": [],
   "source": [
    "y_var = 'Frequency of moderate activity 10+ minutes: Times per week'\n",
    "x_var = \"Person's total earnings, previous calendar year\"\n",
    "#filter out \"unknown, unascertained responses\"\n",
    "df_filtered = df_final[df_final[y_var]<50]\n",
    "df_filtered = df_filtered[df_filtered[x_var]<50]\n",
    "\n",
    "fig, axes = plt.subplots(nrows=1, ncols=2, figsize=(15,7))\n",
    "df_filtered_2000 = df_filtered.loc[[2000]]\n",
    "df_filtered_2000.plot(ax=axes[0], kind='scatter', x=x_var, y=y_var, title='Year 2000', color='b')\n",
    "df_filtered_2018 = df_filtered.loc[[2018]]\n",
    "df_filtered_2018.plot(ax=axes[1], kind='scatter', x=x_var, y=y_var, title='Year 2018', color='b')\n",
    "plt.show"
   ]
  },
  {
   "cell_type": "markdown",
   "metadata": {},
   "source": [
    "### Examine the distribution of data by gender"
   ]
  },
  {
   "cell_type": "code",
   "execution_count": null,
   "metadata": {},
   "outputs": [],
   "source": [
    "gender = {1:'Male',\n",
    " 2:'Female'} \n",
    "\n",
    "df_final['Sex'] = df_final['Sex'].map(gender)\n",
    "print(df_final['Sex'].value_counts(normalize=True))"
   ]
  },
  {
   "cell_type": "code",
   "execution_count": null,
   "metadata": {},
   "outputs": [],
   "source": [
    "fig, ax = plt.subplots(figsize=(15,7))\n",
    "df_final['Sex'].value_counts().plot(kind='bar')\n",
    "\n",
    "#ax_R = df_reg.plot(kind='bar', color='g')\n",
    "#df_regionHTN.plot(ax=ax_R, kind='bar', color='r') #,sharex=False\n",
    "\n"
   ]
  },
  {
   "cell_type": "code",
   "execution_count": null,
   "metadata": {},
   "outputs": [],
   "source": [
    "\n",
    "\n",
    "#scatter matrix over comorbidities\n",
    "#ver 1 - with \"don't know\" etc. include\n",
    "#ver 2 - reduce values to yes and no (2 and 1) only for 4-quadrant grids\n",
    "#show was looked like 20 years ago and today\n",
    "\n",
    "matrix_cols = ['Ever told had hypertension','Ever told had angina pectoris', 'Ever told had heart condition/disease']\n",
    "matrix_cols += ['Ever told had heart attack', 'Ever told had diabetes', 'Ever told had emphysema']\n",
    "#scatter matrix\n",
    "data = df_final.loc[2000][matrix_cols]\n",
    "pd.plotting.scatter_matrix(data, figsize = (20, 20))\n",
    "plt.show()\n",
    "\n",
    "\n",
    "\n"
   ]
  },
  {
   "cell_type": "code",
   "execution_count": null,
   "metadata": {},
   "outputs": [],
   "source": [
    "sns.stripplot('Ever told had hypertension', 'Ever told had angina pectoris', data=df_final, jitter=0.1)"
   ]
  },
  {
   "cell_type": "markdown",
   "metadata": {},
   "source": [
    "Relationships between categorical variables is better represented with contingency tables \n"
   ]
  },
  {
   "cell_type": "markdown",
   "metadata": {},
   "source": [
    "# Comorbidities"
   ]
  },
  {
   "cell_type": "code",
   "execution_count": null,
   "metadata": {},
   "outputs": [],
   "source": [
    "#create contingency tables for hypertension compared to other variables\n",
    "\n",
    "df_HTN_ANG = df_final.groupby(['Ever told had hypertension', 'Ever told had angina pectoris']).size().reset_index(name='counts')\n",
    "df2 = df_HTN_ANG.pivot(index='Ever told had hypertension', columns = 'Ever told had angina pectoris', values='counts')\n",
    "print(df2)                 "
   ]
  },
  {
   "cell_type": "markdown",
   "metadata": {},
   "source": [
    "#### Contingency table for hypertension and angina"
   ]
  },
  {
   "cell_type": "code",
   "execution_count": null,
   "metadata": {},
   "outputs": [],
   "source": [
    "pd.crosstab(index=df_final['Ever told had hypertension'], \n",
    "            columns=df_final['Ever told had angina pectoris'], \n",
    "            colnames=['Ever told had angina pectoris'],\n",
    "            margins=True,\n",
    "            margins_name='#Responses').rename(columns={1: \"No\", 2: \"Yes\", 7:\"Refused\", 9:\"Don't Know\"}, index={1: \"No\", 2: \"Yes\", 7:\"Refused\", 9:\"Don't Know\"})\n"
   ]
  },
  {
   "cell_type": "markdown",
   "metadata": {},
   "source": [
    "### Respondents with HTN who reported angina: 6%"
   ]
  },
  {
   "cell_type": "code",
   "execution_count": 267,
   "metadata": {},
   "outputs": [
    {
     "data": {
      "text/html": [
       "<div>\n",
       "<style scoped>\n",
       "    .dataframe tbody tr th:only-of-type {\n",
       "        vertical-align: middle;\n",
       "    }\n",
       "\n",
       "    .dataframe tbody tr th {\n",
       "        vertical-align: top;\n",
       "    }\n",
       "\n",
       "    .dataframe thead th {\n",
       "        text-align: right;\n",
       "    }\n",
       "</style>\n",
       "<table border=\"1\" class=\"dataframe\">\n",
       "  <thead>\n",
       "    <tr style=\"text-align: right;\">\n",
       "      <th>Angina</th>\n",
       "      <th>No</th>\n",
       "      <th>Yes</th>\n",
       "      <th>Refused</th>\n",
       "      <th>Don't Know</th>\n",
       "    </tr>\n",
       "    <tr>\n",
       "      <th>Ever told had hypertension</th>\n",
       "      <th></th>\n",
       "      <th></th>\n",
       "      <th></th>\n",
       "      <th></th>\n",
       "    </tr>\n",
       "  </thead>\n",
       "  <tbody>\n",
       "    <tr>\n",
       "      <th>No</th>\n",
       "      <td>0.989796</td>\n",
       "      <td>0.009606</td>\n",
       "      <td>0.000078</td>\n",
       "      <td>0.000519</td>\n",
       "    </tr>\n",
       "    <tr>\n",
       "      <th>Yes</th>\n",
       "      <td>0.935990</td>\n",
       "      <td>0.060408</td>\n",
       "      <td>0.000067</td>\n",
       "      <td>0.003534</td>\n",
       "    </tr>\n",
       "    <tr>\n",
       "      <th>Refused</th>\n",
       "      <td>0.383117</td>\n",
       "      <td>0.006494</td>\n",
       "      <td>0.603896</td>\n",
       "      <td>0.006494</td>\n",
       "    </tr>\n",
       "    <tr>\n",
       "      <th>Don't Know</th>\n",
       "      <td>0.801075</td>\n",
       "      <td>0.043011</td>\n",
       "      <td>0.002688</td>\n",
       "      <td>0.153226</td>\n",
       "    </tr>\n",
       "  </tbody>\n",
       "</table>\n",
       "</div>"
      ],
      "text/plain": [
       "Angina                            No       Yes   Refused  Don't Know\n",
       "Ever told had hypertension                                          \n",
       "No                          0.989796  0.009606  0.000078    0.000519\n",
       "Yes                         0.935990  0.060408  0.000067    0.003534\n",
       "Refused                     0.383117  0.006494  0.603896    0.006494\n",
       "Don't Know                  0.801075  0.043011  0.002688    0.153226"
      ]
     },
     "execution_count": 267,
     "metadata": {},
     "output_type": "execute_result"
    }
   ],
   "source": [
    "pd.crosstab(index=df_final['Ever told had hypertension'], \n",
    "            columns=df_final['Ever told had angina pectoris'], \n",
    "            colnames=['Angina'],\n",
    "            normalize='index').rename(columns={1: \"No\", 2: \"Yes\", 7:\"Refused\", 9:\"Don't Know\"}, index={1: \"No\", 2: \"Yes\", 7:\"Refused\", 9:\"Don't Know\"})\n"
   ]
  },
  {
   "cell_type": "markdown",
   "metadata": {},
   "source": [
    "### Respondents with angina who reported HTN: 76%"
   ]
  },
  {
   "cell_type": "code",
   "execution_count": 268,
   "metadata": {},
   "outputs": [
    {
     "data": {
      "text/html": [
       "<div>\n",
       "<style scoped>\n",
       "    .dataframe tbody tr th:only-of-type {\n",
       "        vertical-align: middle;\n",
       "    }\n",
       "\n",
       "    .dataframe tbody tr th {\n",
       "        vertical-align: top;\n",
       "    }\n",
       "\n",
       "    .dataframe thead th {\n",
       "        text-align: right;\n",
       "    }\n",
       "</style>\n",
       "<table border=\"1\" class=\"dataframe\">\n",
       "  <thead>\n",
       "    <tr style=\"text-align: right;\">\n",
       "      <th>Angina</th>\n",
       "      <th>No</th>\n",
       "      <th>Yes</th>\n",
       "      <th>Refused</th>\n",
       "      <th>Don't Know</th>\n",
       "    </tr>\n",
       "    <tr>\n",
       "      <th>Ever told had hypertension</th>\n",
       "      <th></th>\n",
       "      <th></th>\n",
       "      <th></th>\n",
       "      <th></th>\n",
       "    </tr>\n",
       "  </thead>\n",
       "  <tbody>\n",
       "    <tr>\n",
       "      <th>No</th>\n",
       "      <td>0.672245</td>\n",
       "      <td>0.235886</td>\n",
       "      <td>0.112108</td>\n",
       "      <td>0.205955</td>\n",
       "    </tr>\n",
       "    <tr>\n",
       "      <th>Yes</th>\n",
       "      <td>0.326871</td>\n",
       "      <td>0.762731</td>\n",
       "      <td>0.049327</td>\n",
       "      <td>0.720844</td>\n",
       "    </tr>\n",
       "    <tr>\n",
       "      <th>Refused</th>\n",
       "      <td>0.000251</td>\n",
       "      <td>0.000154</td>\n",
       "      <td>0.834081</td>\n",
       "      <td>0.002481</td>\n",
       "    </tr>\n",
       "    <tr>\n",
       "      <th>Don't Know</th>\n",
       "      <td>0.000633</td>\n",
       "      <td>0.001229</td>\n",
       "      <td>0.004484</td>\n",
       "      <td>0.070720</td>\n",
       "    </tr>\n",
       "  </tbody>\n",
       "</table>\n",
       "</div>"
      ],
      "text/plain": [
       "Angina                            No       Yes   Refused  Don't Know\n",
       "Ever told had hypertension                                          \n",
       "No                          0.672245  0.235886  0.112108    0.205955\n",
       "Yes                         0.326871  0.762731  0.049327    0.720844\n",
       "Refused                     0.000251  0.000154  0.834081    0.002481\n",
       "Don't Know                  0.000633  0.001229  0.004484    0.070720"
      ]
     },
     "execution_count": 268,
     "metadata": {},
     "output_type": "execute_result"
    }
   ],
   "source": [
    "pd.crosstab(index=df_final['Ever told had hypertension'], \n",
    "            columns=df_final['Ever told had angina pectoris'], \n",
    "            colnames=['Angina'],\n",
    "            normalize='columns').rename(columns={1: \"No\", 2: \"Yes\", 7:\"Refused\", 9:\"Don't Know\"}, index={1: \"No\", 2: \"Yes\", 7:\"Refused\", 9:\"Don't Know\"})\n"
   ]
  },
  {
   "cell_type": "code",
   "execution_count": 294,
   "metadata": {},
   "outputs": [
    {
     "data": {
      "image/png": "[encoded data removed]",
      "text/plain": [
       "<Figure size 1080x504 with 2 Axes>"
      ]
     },
     "metadata": {
      "needs_background": "light"
     },
     "output_type": "display_data"
    }
   ],
   "source": [
    "fig, axes = plt.subplots(nrows=1, ncols=2, figsize=(15,7))\n",
    "fig.suptitle('\"Has HTN and has angina\" vs. \"has angina and has HTN\", all responses')\n",
    "pd.crosstab(index=df_final['Ever told had hypertension'], \n",
    "            columns=df_final['Ever told had angina pectoris'], \n",
    "            colnames=['Ever told had angina pectoris']).rename(columns={1: \"No\", 2: \"Yes\", 7:\"Refused\", 9:\"Don't Know\"}, index={1: \"No\", 2: \"Yes\", 7:\"Refused\", 9:\"Don't Know\"}).plot(ax=axes[0], kind='bar', title='Hypertension Responses')\n",
    "plt.ylabel('Frequency')\n",
    "pd.crosstab(index=df_final['Ever told had angina pectoris'], \n",
    "            columns=df_final['Ever told had hypertension'], \n",
    "            colnames=['Ever told had hypertension']).rename(columns={1: \"No\", 2: \"Yes\", 7:\"Refused\", 9:\"Don't Know\"}, index={1: \"No\", 2: \"Yes\", 7:\"Refused\", 9:\"Don't Know\"}).plot(ax=axes[1], kind='bar', title='Angina Responses')\n",
    "\n",
    "plt.show()\n"
   ]
  },
  {
   "cell_type": "markdown",
   "metadata": {},
   "source": [
    "#### Compare counts of positive responses in each group"
   ]
  },
  {
   "cell_type": "code",
   "execution_count": 295,
   "metadata": {},
   "outputs": [
    {
     "data": {
      "image/png": "[encoded data removed]",
      "text/plain": [
       "<Figure size 1080x504 with 2 Axes>"
      ]
     },
     "metadata": {
      "needs_background": "light"
     },
     "output_type": "display_data"
    }
   ],
   "source": [
    "Codes_1279 = {1: \"No\", 2: \"Yes\", 7:\"Refused\", 9:\"Don't Know\"}\n",
    "#attempted mapping dictionary over columns but was having to reassign to new dataframes every time,\n",
    "#creating a lot of copies of the dataframe.  Choosing to map column names on the crosstabs instead.\n",
    "\n",
    "df_posHTN = df_final.loc[df_final['Ever told had hypertension'] == 2]\n",
    "df_posANG = df_final.loc[df_final['Ever told had angina pectoris'] == 2]\n",
    "HTN_title = '{:,} Respondents with Hypertension'.format(len(df_posHTN))\n",
    "ANG_title = '{:,} Respondents with Angina'.format(len(df_posANG))\n",
    "\n",
    "fig, axes = plt.subplots(nrows=1, ncols=2, figsize=(15,7))\n",
    "fig.suptitle('\"Has HTN and has angina\" vs. \"has angina and has HTN\", positive responses')\n",
    "pd.crosstab(index=df_posHTN['Ever told had hypertension'], \n",
    "            columns=df_posHTN['Ever told had angina pectoris'], \n",
    "            colnames=['Ever told had angina pectoris']).rename(columns=Codes_1279, index=Codes_1279).plot(\n",
    "            ax=axes[0], kind ='bar', title = HTN_title)\n",
    "#axes[0].set_ylabel('Frequency')\n",
    "#axes[0].set_ylim(0, 160000)\n",
    "\n",
    "pd.crosstab(index=df_posANG['Ever told had angina pectoris'], \n",
    "            columns=df_posANG['Ever told had hypertension'], \n",
    "            colnames=['Ever told had hypertension']).rename(columns=Codes_1279, index=Codes_1279).plot(\n",
    "            ax=axes[1], kind ='bar', title = ANG_title)\n",
    "\n",
    "plt.show()"
   ]
  },
  {
   "cell_type": "markdown",
   "metadata": {},
   "source": [
    "#### Normalize the results so the scales align"
   ]
  },
  {
   "cell_type": "code",
   "execution_count": 296,
   "metadata": {},
   "outputs": [
    {
     "data": {
      "image/png": "[encoded data removed]",
      "text/plain": [
       "<Figure size 1080x504 with 2 Axes>"
      ]
     },
     "metadata": {
      "needs_background": "light"
     },
     "output_type": "display_data"
    }
   ],
   "source": [
    "Codes_1279 = {1: \"No\", 2: \"Yes\", 7:\"Refused\", 9:\"Don't Know\"}\n",
    "#attempted mapping dictionary over columns but was having to reassign to new dataframes every time,\n",
    "#creating a lot of copies of the dataframe.  Choosing to map column names on the crosstabs instead.\n",
    "\n",
    "df_posHTN = df_final.loc[df_final['Ever told had hypertension'] == 2]\n",
    "df_posANG = df_final.loc[df_final['Ever told had angina pectoris'] == 2]\n",
    "HTN_title = '{:,} Respondents with Hypertension'.format(len(df_posHTN))\n",
    "ANG_title = '{:,} Respondents with Angina'.format(len(df_posANG))\n",
    "\n",
    "fig, axes = plt.subplots(nrows=1, ncols=2, figsize=(15,7), sharey = True)\n",
    "fig.suptitle('\"Has HTN and has angina\" vs. \"has angina and has HTN\", normalized positive responses')\n",
    "pd.crosstab(index=df_posHTN['Ever told had hypertension'], \n",
    "            columns=df_posHTN['Ever told had angina pectoris'], \n",
    "            colnames=['Ever told had angina pectoris'],\n",
    "            normalize='index').rename(columns=Codes_1279, index=Codes_1279).plot(\n",
    "            ax=axes[0], kind ='bar', title = HTN_title)\n",
    "\n",
    "pd.crosstab(index=df_posANG['Ever told had angina pectoris'], \n",
    "            columns=df_posANG['Ever told had hypertension'], \n",
    "            colnames=['Ever told had hypertension'],\n",
    "            normalize='index').rename(columns=Codes_1279, index=Codes_1279).plot(\n",
    "            ax=axes[1], kind ='bar', title = ANG_title)\n",
    "plt.show()"
   ]
  },
  {
   "cell_type": "markdown",
   "metadata": {},
   "source": [
    "### Respondents with HTN who reported asthma: 6%"
   ]
  },
  {
   "cell_type": "code",
   "execution_count": 326,
   "metadata": {},
   "outputs": [
    {
     "data": {
      "image/png": "[encoded data removed]",
      "text/plain": [
       "<Figure size 1080x504 with 2 Axes>"
      ]
     },
     "metadata": {
      "needs_background": "light"
     },
     "output_type": "display_data"
    }
   ],
   "source": [
    "Codes_1279 = {1: \"No\", 2: \"Yes\", 7:\"Refused\", 9:\"Don't Know\"}\n",
    "df_posHTN = df_final.loc[df_final[HTN_colname] == 2]\n",
    "HTN_title = '{:,} Respondents with Hypertension'.format(len(df_posHTN))\n",
    "\n",
    "comorbidity = 'Ever told had asthma'\n",
    "df_posCmb = df_final.loc[df_final[comorbidity] == 2]\n",
    "CMB_title = '{:,} Respondents responding Yes to \"{}\"'.format(len(df_posCmb), comorbidity)\n",
    "\n",
    "fig, axes = plt.subplots(nrows=1, ncols=2, figsize=(15,7), sharey = True)\n",
    "pd.crosstab(index=df_posHTN[HTN_colname], \n",
    "            columns=df_posHTN[comorbidity], \n",
    "            colnames=[comorbidity],\n",
    "            normalize='index').rename(columns=Codes_1279, index=Codes_1279).plot(\n",
    "            ax=axes[0], kind ='bar', title = HTN_title)\n",
    "\n",
    "HTNandCMB = 'Combined pos {:.2%}'.format(len(df_posHTN.loc[df_posHTN[comorbidity]==2]) / len(df_posHTN))\n",
    "axes[0].text(0, 0.5, HTNandCMB)\n",
    "\n",
    "pd.crosstab(index=df_posCmb[comorbidity], \n",
    "            columns=df_posCmb[HTN_colname], \n",
    "            colnames=[HTN_colname],\n",
    "            normalize='index').rename(columns=Codes_1279, index=Codes_1279).plot(\n",
    "            ax=axes[1], kind ='bar', title = CMB_title)\n",
    "\n",
    "CMBandHTN = 'Combined pos {:.2%}'.format(len(df_posCmb.loc[df_posCmb[HTN_colname]==2]) / len(df_posCmb))\n",
    "axes[1].text(0, 0.5, CMBandHTN)\n",
    "\n",
    "\n",
    "plt.show()"
   ]
  },
  {
   "cell_type": "code",
   "execution_count": 269,
   "metadata": {},
   "outputs": [
    {
     "data": {
      "text/html": [
       "<div>\n",
       "<style scoped>\n",
       "    .dataframe tbody tr th:only-of-type {\n",
       "        vertical-align: middle;\n",
       "    }\n",
       "\n",
       "    .dataframe tbody tr th {\n",
       "        vertical-align: top;\n",
       "    }\n",
       "\n",
       "    .dataframe thead th {\n",
       "        text-align: right;\n",
       "    }\n",
       "</style>\n",
       "<table border=\"1\" class=\"dataframe\">\n",
       "  <thead>\n",
       "    <tr style=\"text-align: right;\">\n",
       "      <th>Asthma</th>\n",
       "      <th>No</th>\n",
       "      <th>Yes</th>\n",
       "      <th>Refused</th>\n",
       "      <th>Don't Know</th>\n",
       "    </tr>\n",
       "    <tr>\n",
       "      <th>Ever told had hypertension</th>\n",
       "      <th></th>\n",
       "      <th></th>\n",
       "      <th></th>\n",
       "      <th></th>\n",
       "    </tr>\n",
       "  </thead>\n",
       "  <tbody>\n",
       "    <tr>\n",
       "      <th>No</th>\n",
       "      <td>0.886202</td>\n",
       "      <td>0.113351</td>\n",
       "      <td>0.000075</td>\n",
       "      <td>0.000372</td>\n",
       "    </tr>\n",
       "    <tr>\n",
       "      <th>Yes</th>\n",
       "      <td>0.854935</td>\n",
       "      <td>0.144153</td>\n",
       "      <td>0.000085</td>\n",
       "      <td>0.000827</td>\n",
       "    </tr>\n",
       "    <tr>\n",
       "      <th>Refused</th>\n",
       "      <td>0.516234</td>\n",
       "      <td>0.038961</td>\n",
       "      <td>0.441558</td>\n",
       "      <td>0.003247</td>\n",
       "    </tr>\n",
       "    <tr>\n",
       "      <th>Don't Know</th>\n",
       "      <td>0.809140</td>\n",
       "      <td>0.102151</td>\n",
       "      <td>0.010753</td>\n",
       "      <td>0.077957</td>\n",
       "    </tr>\n",
       "  </tbody>\n",
       "</table>\n",
       "</div>"
      ],
      "text/plain": [
       "Asthma                            No       Yes   Refused  Don't Know\n",
       "Ever told had hypertension                                          \n",
       "No                          0.886202  0.113351  0.000075    0.000372\n",
       "Yes                         0.854935  0.144153  0.000085    0.000827\n",
       "Refused                     0.516234  0.038961  0.441558    0.003247\n",
       "Don't Know                  0.809140  0.102151  0.010753    0.077957"
      ]
     },
     "execution_count": 269,
     "metadata": {},
     "output_type": "execute_result"
    }
   ],
   "source": [
    "pd.crosstab(index=df_final['Ever told had hypertension'], \n",
    "            columns=df_final['Ever told had asthma'], \n",
    "            colnames=['Asthma'],\n",
    "            normalize='index')\n",
    "\n",
    "#.rename(columns={1: \"No\", 2: \"Yes\", 7:\"Refused\", 9:\"Don't Know\"}, index={1: \"No\", 2: \"Yes\", 7:\"Refused\", 9:\"Don't Know\"})\n",
    "\n"
   ]
  },
  {
   "cell_type": "markdown",
   "metadata": {},
   "source": [
    "#### Among the people who reported hypertension, 94% reported *not* having diabetes"
   ]
  },
  {
   "cell_type": "code",
   "execution_count": null,
   "metadata": {},
   "outputs": [],
   "source": [
    "pd.crosstab(index=df_final['Ever told had hypertension'], \n",
    "            columns=df_final['Ever told had diabetes'], \n",
    "            colnames=['Diabetes'],\n",
    "            normalize='index').rename(columns={1: \"No\", 2: \"Yes\", 3: \"Borderline\", 7:\"Refused\", 9:\"Don't Know\"}, index={1: \"No\", 2: \"Yes\", 7:\"Refused\", 9:\"Don't Know\"})\n"
   ]
  },
  {
   "cell_type": "markdown",
   "metadata": {},
   "source": [
    "Among the people who reported hypertension, 94% reported not having ever had a heart attack"
   ]
  },
  {
   "cell_type": "code",
   "execution_count": null,
   "metadata": {},
   "outputs": [],
   "source": [
    "pd.crosstab(index=df_final['Ever told had hypertension'], \n",
    "            columns=df_final['Ever told had heart attack'], \n",
    "            colnames=['Heart Attack'],\n",
    "            normalize='index').rename(columns={1: \"No\", 2: \"Yes\", 7:\"Refused\", 9:\"Don't Know\"}, index={1: \"No\", 2: \"Yes\", 7:\"Refused\", 9:\"Don't Know\"})\n"
   ]
  },
  {
   "cell_type": "code",
   "execution_count": null,
   "metadata": {},
   "outputs": [],
   "source": []
  },
  {
   "cell_type": "markdown",
   "metadata": {},
   "source": [
    "### Plot the ability to afford care over time"
   ]
  },
  {
   "cell_type": "code",
   "execution_count": null,
   "metadata": {},
   "outputs": [],
   "source": [
    "#confirm results\n",
    "#fix formatting of year\n",
    "#fix legend\n",
    "\n",
    "y_column = [\"Needed but couldn't afford medical care, past 12 months\"]\n",
    "\n",
    "#filter dataset for rows where respondent stated they could not afford medical care\n",
    "df_afford = df[df[\"Needed but couldn't afford medical care, past 12 months\"]==2]\n",
    "\n",
    "#group the dataset by year and count the rows\n",
    "years = df_afford.groupby(level=0, axis=0).count()[y_column]\n",
    "\n",
    "#plot the data\n",
    "years.plot()\n",
    "\n",
    "# Add the title\n",
    "plt.title('Inability to afford care')\n",
    "\n",
    "# Add the y-axis label\n",
    "plt.ylabel('Frequency')\n",
    "\n",
    "# Display the plot\n",
    "plt.show()"
   ]
  },
  {
   "cell_type": "markdown",
   "metadata": {},
   "source": [
    "Time series\n",
    "reporting hypertension over time\n",
    "plot family income over time - adjusted for inflation?  (how to do that?)\n",
    "ability to afford care vs hypertension reported\n",
    "\n",
    "Distribution over other factors\n",
    "hypertension by region, gender, income, ability to afford care?\n",
    "\n",
    "Correlations\n",
    "comorbidities - correlations w/ other conditions\n"
   ]
  },
  {
   "cell_type": "markdown",
   "metadata": {},
   "source": [
    "### Distribution of Race over time"
   ]
  },
  {
   "cell_type": "code",
   "execution_count": null,
   "metadata": {},
   "outputs": [],
   "source": [
    "#df_by_year = df_final.groupby(level=0, axis=0).count\n",
    "#print(df_by_year)\n",
    "#df_by_year.groupby('Main Racial Background').plot(kind='density')\n",
    "#data = df_final.groupby(level=0)['Main Racial Background']\n",
    "#data.plot(kind='hist')\n"
   ]
  },
  {
   "cell_type": "code",
   "execution_count": null,
   "metadata": {},
   "outputs": [],
   "source": []
  }
 ],
 "metadata": {
  "kernelspec": {
   "display_name": "Python 3",
   "language": "python",
   "name": "python3"
  },
  "language_info": {
   "codemirror_mode": {
    "name": "ipython",
    "version": 3
   },
   "file_extension": ".py",
   "mimetype": "text/x-python",
   "name": "python",
   "nbconvert_exporter": "python",
   "pygments_lexer": "ipython3",
   "version": "3.7.1"
  }
 },
 "nbformat": 4,
 "nbformat_minor": 2
}
